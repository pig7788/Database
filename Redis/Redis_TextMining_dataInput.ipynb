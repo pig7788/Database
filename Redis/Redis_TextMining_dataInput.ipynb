{
 "cells": [
  {
   "cell_type": "code",
   "execution_count": 5,
   "metadata": {
    "collapsed": false
   },
   "outputs": [],
   "source": [
    "import redis, json, time, operator"
   ]
  },
  {
   "cell_type": "markdown",
   "metadata": {},
   "source": [
    "## 建立連線與向資料庫倒入資料"
   ]
  },
  {
   "cell_type": "code",
   "execution_count": 3,
   "metadata": {
    "collapsed": false
   },
   "outputs": [],
   "source": [
    "'''\n",
    "建立連線，輸入相關參數即可\n",
    "'''\n",
    "def connect4Input(host, port, db):\n",
    "    connection = redis.Redis(host = host, port = port, db = db)\n",
    "    print 'Connection: %s' % True\n",
    "    return connection\n",
    "\n",
    "'''\n",
    "呼叫pipeline實體化，使用transation，\n",
    "故使用mulit這個方法，如果執行上沒有錯誤，\n",
    "接著就透過execute這個方法送出資料\n",
    "如果發生錯誤，繼續使用continue使資料倒進資料庫不會中斷\n",
    "'''\n",
    "def ready2Input(connection, result):\n",
    "    for tourAgency in result.keys():\n",
    "        with connection.pipeline(transaction = True) as pipe:\n",
    "            tourAgencyCount = 0\n",
    "            try:\n",
    "                pipe.watch(tourAgency)\n",
    "                tourAgencyCount += 1\n",
    "                pipe.multi()\n",
    "                connection.hmset(tourAgency, result[tourAgency])\n",
    "                pipe.execute()\n",
    "            except redis.WatchError:\n",
    "                continue"
   ]
  },
  {
   "cell_type": "markdown",
   "metadata": {},
   "source": [
    "## 執行"
   ]
  },
  {
   "cell_type": "code",
   "execution_count": 6,
   "metadata": {
    "collapsed": false,
    "scrolled": true
   },
   "outputs": [
    {
     "name": "stdout",
     "output_type": "stream",
     "text": [
      "Connection: True\n",
      "Data is finished to input in Redis!!\n",
      "Time Cost: 3.819000 sec.\n"
     ]
    }
   ],
   "source": [
    "path = r'D:\\BigData\\Python\\Workspace\\TextMining\\Project\\txtFiles\\totalAtriclesResult\\test.json'\n",
    "with open(path) as dataRead:\n",
    "    start = time.time()\n",
    "    result = json.load(dataRead)\n",
    "    connection = connect4Input(host = '36.236.58.48', port = 6379, db = 0)\n",
    "    ready2Input(connection, result)\n",
    "    end = time.time()\n",
    "    print 'Data is finished to input in Redis!!'\n",
    "    print 'Time Cost: %f sec.' % (end - start)"
   ]
  },
  {
   "cell_type": "markdown",
   "metadata": {},
   "source": [
    "## Query"
   ]
  },
  {
   "cell_type": "code",
   "execution_count": 8,
   "metadata": {
    "collapsed": false
   },
   "outputs": [],
   "source": [
    "'''\n",
    "取得連線，並回傳連線物件\n",
    "'''\n",
    "def connect4Query(host, port, db):\n",
    "    myServer = redis.Redis(host = host, port = port, db = db)\n",
    "    print 'Connection: %s' % True\n",
    "    return myServer\n",
    "\n",
    "'''\n",
    "外部來的參數有3個，第1個是取得連線物件，\n",
    "第2個是要查詢的旅行社名稱，\n",
    "第3個則是要取前N個的數量。\n",
    "接著將取出的word_count做資料型態轉換，\n",
    "Redis中，所有key,Value都會變成Str，\n",
    "所以，取出時做排序前，必須先轉換成Int，\n",
    "最後回傳前N個值(包在List中)\n",
    "'''\n",
    "def changeType2SortData(myServer, tourAgency, topn):\n",
    "    new_result = list()\n",
    "    result = myServer.hscan_iter(tourAgency)\n",
    "    for count_word, word_count in result: #eval(word_count) == int(word_count)\n",
    "        new_result.append((count_word.decode('utf-8'), eval(word_count)))\n",
    "    new_result = sorted(new_result, key = operator.itemgetter(1), reverse = True)\n",
    "    return new_result[0:topn]\n",
    "\n",
    "'''\n",
    "實際執行的方法，\n",
    "取得連線後，再輸入要查詢的名稱，\n",
    "為了方便前端人員的作業，\n",
    "所以再將原本tuple的型態，\n",
    "一一取出，轉換成k,v的樣子。\n",
    "並且依序放進list中。\n",
    "'''\n",
    "def start():\n",
    "    textRank = list()\n",
    "    tourAgency = raw_input(u'請輸入你要查詢的旅行社: ')\n",
    "    myServer = connect4Query(host = '36.236.58.48', port = 6379, db = 0)\n",
    "    new_result = changeType2SortData(myServer, tourAgency, 15)\n",
    "    for count_word, word_count in new_result:\n",
    "        textRank.append({'word':count_word, 'wordcount':word_count})\n",
    "    return textRank"
   ]
  },
  {
   "cell_type": "code",
   "execution_count": 11,
   "metadata": {
    "collapsed": false
   },
   "outputs": [
    {
     "name": "stdout",
     "output_type": "stream",
     "text": [
      "請輸入你要查詢的旅行社: phoenix\n",
      "Connection: True\n"
     ]
    },
    {
     "data": {
      "text/plain": [
       "[{'word': u'\\u512a\\u60e0', 'wordcount': 226},\n",
       " {'word': u'\\u597d', 'wordcount': 127},\n",
       " {'word': u'\\u63a8\\u85a6', 'wordcount': 115},\n",
       " {'word': u'\\u4e0d\\u932f', 'wordcount': 62},\n",
       " {'word': u'\\u4fbf\\u5b9c', 'wordcount': 55},\n",
       " {'word': u'\\u4e0d\\u597d', 'wordcount': 28},\n",
       " {'word': u'\\u5c08\\u696d', 'wordcount': 28},\n",
       " {'word': u'\\u8cb4', 'wordcount': 27},\n",
       " {'word': u'\\u5f88\\u597d', 'wordcount': 22},\n",
       " {'word': u'\\u5f88\\u4e0d\\u932f', 'wordcount': 21},\n",
       " {'word': u'\\u6bd4\\u8f03\\u597d', 'wordcount': 19},\n",
       " {'word': u'\\u5dee', 'wordcount': 18},\n",
       " {'word': u'\\u9ebb\\u7169', 'wordcount': 18},\n",
       " {'word': u'\\u5f88\\u5dee', 'wordcount': 16},\n",
       " {'word': u'\\u6700\\u597d', 'wordcount': 16}]"
      ]
     },
     "execution_count": 11,
     "metadata": {},
     "output_type": "execute_result"
    }
   ],
   "source": [
    "start()"
   ]
  }
 ],
 "metadata": {
  "anaconda-cloud": {},
  "kernelspec": {
   "display_name": "Python [Root]",
   "language": "python",
   "name": "Python [Root]"
  },
  "language_info": {
   "codemirror_mode": {
    "name": "ipython",
    "version": 2
   },
   "file_extension": ".py",
   "mimetype": "text/x-python",
   "name": "python",
   "nbconvert_exporter": "python",
   "pygments_lexer": "ipython2",
   "version": "2.7.12"
  }
 },
 "nbformat": 4,
 "nbformat_minor": 0
}
