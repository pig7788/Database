{
 "cells": [
  {
   "cell_type": "code",
   "execution_count": 3,
   "metadata": {
    "collapsed": false
   },
   "outputs": [],
   "source": [
    "import redis, json, time, operator"
   ]
  },
  {
   "cell_type": "markdown",
   "metadata": {},
   "source": [
    "## 建立連線與向資料庫倒入資料"
   ]
  },
  {
   "cell_type": "code",
   "execution_count": 3,
   "metadata": {
    "collapsed": false
   },
   "outputs": [],
   "source": [
    "'''\n",
    "建立連線，輸入相關參數即可\n",
    "'''\n",
    "def connect4Input(host, port, db, password):\n",
    "    connection = redis.Redis(host = host, port = port, db = db, password = password)\n",
    "    print 'Connection: %s' % True\n",
    "    return connection\n",
    "\n",
    "'''\n",
    "呼叫pipeline實體化，使用transation，\n",
    "故使用mulit這個方法，如果執行上沒有錯誤，\n",
    "接著就透過execute這個方法送出資料\n",
    "如果發生錯誤，繼續使用continue使資料倒進資料庫不會中斷\n",
    "'''\n",
    "def ready2Input(connection, result):\n",
    "    for tourAgency in result.keys():\n",
    "        with connection.pipeline(transaction = True) as pipe:\n",
    "            tourAgencyCount = 0\n",
    "            try:\n",
    "                pipe.watch(tourAgency)\n",
    "                tourAgencyCount += 1\n",
    "                pipe.multi()\n",
    "                connection.hmset(tourAgency, result[tourAgency])\n",
    "                pipe.execute()\n",
    "            except redis.WatchError:\n",
    "                continue"
   ]
  },
  {
   "cell_type": "markdown",
   "metadata": {},
   "source": [
    "## 執行"
   ]
  },
  {
   "cell_type": "code",
   "execution_count": 9,
   "metadata": {
    "collapsed": false,
    "scrolled": true
   },
   "outputs": [
    {
     "name": "stdout",
     "output_type": "stream",
     "text": [
      "Connection: True\n",
      "Data is finished to input in Redis!!\n",
      "Time Cost: 4.090000 sec.\n"
     ]
    }
   ],
   "source": [
    "path = r'D:\\BigData\\Python\\Workspace\\TextMining\\Project\\txtFiles\\totalAtriclesResult\\final_result_proportion.json'\n",
    "with open(path) as dataRead:\n",
    "    start = time.time()\n",
    "    result = json.load(dataRead)\n",
    "    connection = connect4Input(host = '140.115.236.201', port = 6379, db = 0, password = '123456')\n",
    "    ready2Input(connection, result)\n",
    "    end = time.time()\n",
    "    print 'Data is finished to input in Redis!!'\n",
    "    print 'Time Cost: %f sec.' % (end - start)"
   ]
  },
  {
   "cell_type": "markdown",
   "metadata": {},
   "source": [
    "## Query"
   ]
  },
  {
   "cell_type": "code",
   "execution_count": 5,
   "metadata": {
    "collapsed": false
   },
   "outputs": [],
   "source": [
    "'''\n",
    "取得連線，並回傳連線物件\n",
    "'''\n",
    "def connect4Query(host, port, db, password):\n",
    "    myServer = redis.Redis(host = host, port = port, db = db, password = password)\n",
    "    print 'Connection: %s' % True\n",
    "    return myServer\n",
    "\n",
    "'''\n",
    "外部來的參數有3個，第1個是取得連線物件，\n",
    "第2個是要查詢的旅行社名稱，\n",
    "第3個則是要取前N個的數量。\n",
    "接著將取出的word_count做資料型態轉換，\n",
    "Redis中，所有key,Value都會變成Str，\n",
    "所以，取出時做排序前，必須先轉換成Int，\n",
    "最後回傳前N個值(包在List中)\n",
    "'''\n",
    "def changeType2SortData(myServer, tourAgency, topn):\n",
    "    new_result = list()\n",
    "    result = myServer.hscan_iter(tourAgency)\n",
    "    for count_word, word_count in result: #eval(word_count) == int(word_count)\n",
    "        new_result.append((count_word.decode('utf-8'), eval(word_count)))\n",
    "    new_result = sorted(new_result, key = operator.itemgetter(1), reverse = True)\n",
    "    return new_result[0:topn]\n",
    "\n",
    "'''\n",
    "實際執行的方法，\n",
    "取得連線後，再輸入要查詢的名稱，\n",
    "為了方便前端人員的作業，\n",
    "所以再將原本tuple的型態，\n",
    "一一取出，轉換成k,v的樣子。\n",
    "並且依序放進list中。\n",
    "'''\n",
    "def start():\n",
    "    textRank = list()\n",
    "    tourAgency = raw_input(u'請輸入你要查詢的旅行社: ')\n",
    "    myServer = connect4Query(host = '36.236.48.175', port = 6379, db = 0, password = None)\n",
    "    new_result = changeType2SortData(myServer, tourAgency, 15)\n",
    "    for count_word, word_count in new_result:\n",
    "        textRank.append({'emotion_word':count_word, 'word_count':word_count})\n",
    "    return textRank"
   ]
  },
  {
   "cell_type": "code",
   "execution_count": 6,
   "metadata": {
    "collapsed": false
   },
   "outputs": [
    {
     "name": "stdout",
     "output_type": "stream",
     "text": [
      "請輸入你要查詢的旅行社: ftsTour\n",
      "Connection: True\n"
     ]
    },
    {
     "data": {
      "text/plain": [
       "[{'emotion_word': u'\\u6700\\u597d', 'word_count': 0.513356},\n",
       " {'emotion_word': u'\\u4e0d\\u932f', 'word_count': 0.420518},\n",
       " {'emotion_word': u'\\u518d\\u9ebb\\u7169', 'word_count': 0.263851},\n",
       " {'emotion_word': u'\\u5f88\\u6eff\\u610f', 'word_count': 0.165397},\n",
       " {'emotion_word': u'\\u4fbf\\u5b9c', 'word_count': 0.160793},\n",
       " {'emotion_word': u'\\u5c08\\u696d', 'word_count': 0.143383},\n",
       " {'emotion_word': u'\\u53ea\\u6709\\u721b', 'word_count': 0.118177},\n",
       " {'emotion_word': u'\\u6279\\u8a55', 'word_count': 0.106895},\n",
       " {'emotion_word': u'\\u6bd4\\u8f03\\u597d', 'word_count': 0.106855},\n",
       " {'emotion_word': u'\\u5f88\\u666e\\u901a', 'word_count': 0.09749},\n",
       " {'emotion_word': u'\\u5f88\\u4e0d\\u8ca0\\u8cac\\u4efb', 'word_count': 0.089012},\n",
       " {'emotion_word': u'\\u4e0d\\u5c08\\u696d', 'word_count': 0.071512},\n",
       " {'emotion_word': u'\\u5f88\\u512a\\u60e0', 'word_count': 0.067198},\n",
       " {'emotion_word': u'\\u9084\\u662f\\u58de', 'word_count': 0.063218},\n",
       " {'emotion_word': u'\\u62b1\\u6028', 'word_count': 0.060265}]"
      ]
     },
     "execution_count": 6,
     "metadata": {},
     "output_type": "execute_result"
    }
   ],
   "source": [
    "start()"
   ]
  }
 ],
 "metadata": {
  "anaconda-cloud": {},
  "kernelspec": {
   "display_name": "Python [Root]",
   "language": "python",
   "name": "Python [Root]"
  },
  "language_info": {
   "codemirror_mode": {
    "name": "ipython",
    "version": 2
   },
   "file_extension": ".py",
   "mimetype": "text/x-python",
   "name": "python",
   "nbconvert_exporter": "python",
   "pygments_lexer": "ipython2",
   "version": "2.7.12"
  }
 },
 "nbformat": 4,
 "nbformat_minor": 0
}
